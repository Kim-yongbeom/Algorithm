{
 "cells": [
  {
   "cell_type": "code",
   "execution_count": 10,
   "id": "0ea80d94",
   "metadata": {},
   "outputs": [
    {
     "name": "stdout",
     "output_type": "stream",
     "text": [
      "380\n",
      "4\n"
     ]
    }
   ],
   "source": [
    "# 거스름돈\n",
    "num = int(input())\n",
    "lists = [500, 100, 50, 10, 5, 1]\n",
    "count = 0\n",
    "money = 1000-num\n",
    "\n",
    "\n",
    "#     if (money - lists[0]) > 0:\n",
    "#         count += 1\n",
    "#         money = money - lists[0]\n",
    "while(money >= lists[0]):\n",
    "    count += 1\n",
    "    money = money - lists[0]\n",
    "\n",
    "while(money >= lists[1]):\n",
    "    count += 1\n",
    "    money = money - lists[1]\n",
    "\n",
    "while(money >= lists[2]):\n",
    "    count += 1\n",
    "    money = money - lists[2]\n",
    "\n",
    "while(money >= lists[3]):\n",
    "    count += 1\n",
    "    money = money - lists[3]\n",
    "\n",
    "while(money >= lists[4]):\n",
    "    count += 1\n",
    "    money = money - lists[4]\n",
    "\n",
    "while(money >= lists[5]):\n",
    "    count += 1\n",
    "    money = money - lists[5]\n",
    "\n",
    "print(count)"
   ]
  },
  {
   "cell_type": "code",
   "execution_count": null,
   "id": "f1faf722",
   "metadata": {},
   "outputs": [],
   "source": [
    "# 설탕 배달\n",
    "N = int(input())\n",
    "score = 0\n",
    "count = 0\n",
    "# >= 를 해줘야 6, 9와 같은 숫자가 들어가도 값이 잘나옴\n",
    "while N >= 0:\n",
    "    if N % 5 == 0:\n",
    "        score = N//5 + count\n",
    "        print(score)\n",
    "        break\n",
    "# if N < 3을 해준 이유는 -3을 반복적으로 빼기 때문에 if문 안에 들어가지 못한 값들이\n",
    "# 자동으로 3이하가 되어 -1값이 출력\n",
    "    else:\n",
    "        if N < 3:\n",
    "            score = -1\n",
    "            print(score)\n",
    "    N -= 3\n",
    "    count += 1"
   ]
  },
  {
   "cell_type": "code",
   "execution_count": null,
   "id": "6202373d",
   "metadata": {},
   "outputs": [],
   "source": []
  }
 ],
 "metadata": {
  "kernelspec": {
   "display_name": "Python 3",
   "language": "python",
   "name": "python3"
  },
  "language_info": {
   "codemirror_mode": {
    "name": "ipython",
    "version": 3
   },
   "file_extension": ".py",
   "mimetype": "text/x-python",
   "name": "python",
   "nbconvert_exporter": "python",
   "pygments_lexer": "ipython3",
   "version": "3.8.8"
  },
  "toc": {
   "base_numbering": 1,
   "nav_menu": {},
   "number_sections": true,
   "sideBar": true,
   "skip_h1_title": false,
   "title_cell": "Table of Contents",
   "title_sidebar": "Contents",
   "toc_cell": false,
   "toc_position": {},
   "toc_section_display": true,
   "toc_window_display": false
  }
 },
 "nbformat": 4,
 "nbformat_minor": 5
}
